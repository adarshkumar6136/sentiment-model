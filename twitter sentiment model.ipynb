{
 "cells": [
  {
   "cell_type": "markdown",
   "id": "996dff2c",
   "metadata": {},
   "source": [
    "Libraries"
   ]
  },
  {
   "cell_type": "code",
   "execution_count": 1,
   "id": "cc70f615",
   "metadata": {},
   "outputs": [
    {
     "name": "stderr",
     "output_type": "stream",
     "text": [
      "[nltk_data] Downloading package twitter_samples to\n",
      "[nltk_data]     C:\\Users\\DELL\\AppData\\Roaming\\nltk_data...\n",
      "[nltk_data]   Package twitter_samples is already up-to-date!\n",
      "[nltk_data] Downloading package averaged_perceptron_tagger to\n",
      "[nltk_data]     C:\\Users\\DELL\\AppData\\Roaming\\nltk_data...\n",
      "[nltk_data]   Package averaged_perceptron_tagger is already up-to-\n",
      "[nltk_data]       date!\n"
     ]
    }
   ],
   "source": [
    "import nltk\n",
    "import pickle\n",
    "import random\n",
    "nltk.download('twitter_samples')\n",
    "from nltk.corpus import twitter_samples,stopwords \n",
    "from nltk.stem import WordNetLemmatizer\n",
    "from nltk.tag import pos_tag\n",
    "nltk.download('averaged_perceptron_tagger')\n",
    "from nltk import NaiveBayesClassifier\n",
    "from nltk import classify"
   ]
  },
  {
   "cell_type": "code",
   "execution_count": 2,
   "id": "abfdd676",
   "metadata": {},
   "outputs": [],
   "source": [
    "def clean_data(token):\n",
    "    return [item for item in token if not item.startswith('@') and not item.startswith('http')]"
   ]
  },
  {
   "cell_type": "code",
   "execution_count": 3,
   "id": "d381acf6",
   "metadata": {},
   "outputs": [],
   "source": [
    "def to_lower(token):\n",
    "    return [item.lower() for item in token]"
   ]
  },
  {
   "cell_type": "code",
   "execution_count": 4,
   "id": "9f983475",
   "metadata": {},
   "outputs": [],
   "source": [
    "def lemmatize(token):\n",
    "    lemmatizer=WordNetLemmatizer()\n",
    "    result=[]\n",
    "    for item,tag in pos_tag(token):\n",
    "        if tag[0].lower() in 'nva':\n",
    "            result.append(lemmatizer.lemmatize(item,tag[0].lower()))\n",
    "        else:\n",
    "            result.append((lemmatizer.lemmatize(item)))\n",
    "     \n",
    "    \n",
    "    return result\n",
    "    \n",
    "    "
   ]
  },
  {
   "cell_type": "code",
   "execution_count": 5,
   "id": "965b8d55",
   "metadata": {},
   "outputs": [],
   "source": [
    "def remove_stop_words(token,stop_words):\n",
    "    return [item for item in token if item not in stop_words]"
   ]
  },
  {
   "cell_type": "code",
   "execution_count": 6,
   "id": "314a518f",
   "metadata": {},
   "outputs": [],
   "source": [
    "def transform_features(token):\n",
    "    feature_set={}\n",
    "    for feature in token:\n",
    "        if feature not in feature_set:\n",
    "            feature_set[feature]=0\n",
    "        feature_set[feature]+=1\n",
    "    return feature_set\n",
    "    "
   ]
  },
  {
   "cell_type": "code",
   "execution_count": 7,
   "id": "416b5037",
   "metadata": {},
   "outputs": [],
   "source": [
    "def main():\n",
    "    #step 1:Gather the data\n",
    "    positive_tweets=twitter_samples.tokenized('positive_tweets.json')\n",
    "    negative_tweets=twitter_samples.tokenized('negative_tweets.json')\n",
    "    print(positive_tweets[0])\n",
    "    print(negative_tweets[0])\n",
    "    #step 2:clean,lemmatize and remove stop words from data\n",
    "    stop_words=stopwords.words('english')\n",
    "    positive_tweets=[remove_stop_words(lemmatize(clean_data(to_lower(item))),stop_words) for item in positive_tweets]\n",
    "    negative_tweets=[remove_stop_words(lemmatize(clean_data(to_lower(item))),stop_words) for item in negative_tweets]\n",
    "    print(positive_tweets[0])\n",
    "    print(negative_tweets[0])\n",
    "    #step 3:Transform the data\n",
    "    positive_tweets=[(transform_features(token),'Positive') for token in positive_tweets]\n",
    "    negative_tweets=[(transform_features(token),'Negative') for token in negative_tweets]\n",
    "    print(positive_tweets[0])\n",
    "    print(negative_tweets[0])\n",
    "    #step 4:create data set\n",
    "    dataset=positive_tweets+negative_tweets\n",
    "    random.shuffle(dataset)\n",
    "    training_data=dataset[:7000]\n",
    "    test_data=dataset[7000:]\n",
    "    #step 5:train the model\n",
    "    classifier=NaiveBayesClassifier.train(training_data)\n",
    "    #step 6:test accuracy\n",
    "    print('Accuracy:',classify.accuracy(classifier,test_data))\n",
    "    print(classifier.show_most_informative_features(10))\n",
    "    #step 7:save the model\n",
    "    with open(\"my_classifier.pickle\",\"wb\") as f:\n",
    "        pickle.dump(classifier,f)"
   ]
  },
  {
   "cell_type": "code",
   "execution_count": 8,
   "id": "d6e7fb8a",
   "metadata": {
    "scrolled": true
   },
   "outputs": [
    {
     "name": "stdout",
     "output_type": "stream",
     "text": [
      "['#FollowFriday', '@France_Inte', '@PKuchly57', '@Milipol_Paris', 'for', 'being', 'top', 'engaged', 'members', 'in', 'my', 'community', 'this', 'week', ':)']\n",
      "['hopeless', 'for', 'tmr', ':(']\n",
      "['#followfriday', 'top', 'engage', 'member', 'community', 'week', ':)']\n",
      "['hopeless', 'tmr', ':(']\n",
      "({'#followfriday': 1, 'top': 1, 'engage': 1, 'member': 1, 'community': 1, 'week': 1, ':)': 1}, 'Positive')\n",
      "({'hopeless': 1, 'tmr': 1, ':(': 1}, 'Negative')\n",
      "Accuracy: 0.9966666666666667\n",
      "Most Informative Features\n",
      "                      :( = 1              Negati : Positi =   2012.3 : 1.0\n",
      "                      :) = 1              Positi : Negati =   1619.3 : 1.0\n",
      "                       ( = 2              Negati : Positi =     48.4 : 1.0\n",
      "                follower = 1              Positi : Negati =     33.6 : 1.0\n",
      "                     sad = 1              Negati : Positi =     25.1 : 1.0\n",
      "                  arrive = 1              Positi : Negati =     17.8 : 1.0\n",
      "                    love = 2              Positi : Negati =     16.6 : 1.0\n",
      "               community = 1              Positi : Negati =     14.3 : 1.0\n",
      "                    glad = 1              Positi : Negati =     14.2 : 1.0\n",
      "                     via = 1              Positi : Negati =     13.2 : 1.0\n",
      "None\n"
     ]
    }
   ],
   "source": [
    "if __name__==\"__main__\":\n",
    "    main()"
   ]
  },
  {
   "cell_type": "code",
   "execution_count": null,
   "id": "82597a8a",
   "metadata": {},
   "outputs": [],
   "source": []
  }
 ],
 "metadata": {
  "kernelspec": {
   "display_name": "Python 3 (ipykernel)",
   "language": "python",
   "name": "python3"
  },
  "language_info": {
   "codemirror_mode": {
    "name": "ipython",
    "version": 3
   },
   "file_extension": ".py",
   "mimetype": "text/x-python",
   "name": "python",
   "nbconvert_exporter": "python",
   "pygments_lexer": "ipython3",
   "version": "3.10.6"
  }
 },
 "nbformat": 4,
 "nbformat_minor": 5
}
